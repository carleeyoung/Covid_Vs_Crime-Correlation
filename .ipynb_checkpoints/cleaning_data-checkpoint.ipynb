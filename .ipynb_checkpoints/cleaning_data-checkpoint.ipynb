{
 "cells": [
  {
   "cell_type": "markdown",
   "metadata": {},
   "source": [
    "### COVID 19 cases, crime rate, and population data for Kansas, City MO\n",
    "Data sources:\n",
    "\n",
    "https://data.kcmo.org/Health/COVID-19-Data-by-ZIP-Code/98fz-2jyt\n",
    "\n",
    "https://data.kcmo.org/Crime/KCPD-Crime-Data-2020/vsgj-uufz\n",
    "\n",
    "https://github.com/datamade/census\n",
    "\n",
    "https://public.opendatasoft.com/\n",
    "\n",
    "https://data.kcmo.org/dataset/Zip-Codes/q2i4-9764 "
   ]
  },
  {
   "cell_type": "code",
   "execution_count": 8,
   "metadata": {},
   "outputs": [],
   "source": [
    "import pandas as pd\n",
    "from sqlalchemy import create_engine\n",
    "import sqlite3\n",
    "from sqlite3 import Error"
   ]
  },
  {
   "cell_type": "code",
   "execution_count": 9,
   "metadata": {},
   "outputs": [],
   "source": [
    "covid_file = 'Data/COVID-19_Data_by_ZIP_Code.csv'\n",
    "covid_data = pd.read_csv(covid_file)"
   ]
  },
  {
   "cell_type": "code",
   "execution_count": 10,
   "metadata": {},
   "outputs": [],
   "source": [
    "crime_file = 'Data/KCPD_Crime_Data_2020.csv'\n",
    "crime_data = pd.read_csv(crime_file)"
   ]
  },
  {
   "cell_type": "code",
   "execution_count": null,
   "metadata": {},
   "outputs": [],
   "source": [
    "pop_file = 'Data/Population_by_Zipcode'\n",
    "pop_data = pd.read_csv(pop_file)"
   ]
  },
  {
   "cell_type": "code",
   "execution_count": null,
   "metadata": {},
   "outputs": [],
   "source": [
    "crime_df = crime_data[['Report_No', \"Zip Code\"]]"
   ]
  },
  {
   "cell_type": "code",
   "execution_count": null,
   "metadata": {
    "scrolled": true
   },
   "outputs": [],
   "source": [
    "crime_df = crime_df.rename(columns={'Zip Code': 'Zipcode'})"
   ]
  },
  {
   "cell_type": "code",
   "execution_count": null,
   "metadata": {},
   "outputs": [],
   "source": [
    "crime_df = crime_df.dropna(how='any')"
   ]
  },
  {
   "cell_type": "code",
   "execution_count": null,
   "metadata": {},
   "outputs": [],
   "source": [
    "crime_df['Zipcode'] = crime_df['Zipcode'].astype(int)"
   ]
  },
  {
   "cell_type": "code",
   "execution_count": null,
   "metadata": {},
   "outputs": [],
   "source": [
    "crime_df = crime_df.loc[crime_df['Zipcode'] > 64100]\n",
    "crime_df = crime_df.loc[crime_df['Zipcode'] < 64168]\n",
    "crime_df = crime_df.groupby('Zipcode').count()\n",
    "crime_df"
   ]
  },
  {
   "cell_type": "code",
   "execution_count": null,
   "metadata": {},
   "outputs": [],
   "source": [
    "pop_data = pop_data.loc[pop_data['city'] == \"Kansas City\"]\n",
    "pop_df = pop_data.loc[pop_data['state'] == 'MO']\n",
    "pop_df = pop_df.set_index('Zipcode')\n",
    "pop_df['Population'] = pop_df['Population'].astype(int)\n",
    "pop_df"
   ]
  },
  {
   "cell_type": "code",
   "execution_count": 18,
   "metadata": {},
   "outputs": [
    {
     "data": {
      "text/plain": [
       "COVID19_Cases    int32\n",
       "dtype: object"
      ]
     },
     "execution_count": 18,
     "metadata": {},
     "output_type": "execute_result"
    }
   ],
   "source": [
    "covid_df = covid_data[['ZipCode', 'COVID19 Cases']]\n",
    "covid_df = covid_df.rename(columns={'ZipCode': 'Zipcode', 'COVID19 Cases': 'COVID19_Cases'})\n",
    "covid_df = covid_df.set_index('Zipcode')\n",
    "covid_df = covid_df[covid_df.COVID19_Cases != 'SUPP*']\n",
    "covid_df['COVID19_Cases'] = covid_df['COVID19_Cases'].astype(int)\n",
    "covid_df.dtypes\n"
   ]
  },
  {
   "cell_type": "code",
   "execution_count": null,
   "metadata": {},
   "outputs": [],
   "source": [
    "engine = create_engine('sqlite:///covid_db.sqlite', echo=False)"
   ]
  },
  {
   "cell_type": "code",
   "execution_count": null,
   "metadata": {},
   "outputs": [],
   "source": [
    "covid_df.to_sql(name='covid_stats', con=engine, if_exists='replace', index=True)"
   ]
  },
  {
   "cell_type": "code",
   "execution_count": null,
   "metadata": {},
   "outputs": [],
   "source": [
    "pop_df.to_sql(name='pop_stats', con=engine, if_exists='replace', index=True)"
   ]
  },
  {
   "cell_type": "code",
   "execution_count": null,
   "metadata": {},
   "outputs": [],
   "source": [
    "crime_df.to_sql(name='crime_stats', con=engine, if_exists='replace', index=True)"
   ]
  },
  {
   "cell_type": "code",
   "execution_count": null,
   "metadata": {},
   "outputs": [],
   "source": [
    "engine.table_names()"
   ]
  }
 ],
 "metadata": {
  "kernelspec": {
   "display_name": "Python 3",
   "language": "python",
   "name": "python3"
  },
  "language_info": {
   "codemirror_mode": {
    "name": "ipython",
    "version": 3
   },
   "file_extension": ".py",
   "mimetype": "text/x-python",
   "name": "python",
   "nbconvert_exporter": "python",
   "pygments_lexer": "ipython3",
   "version": "3.6.10"
  }
 },
 "nbformat": 4,
 "nbformat_minor": 4
}
